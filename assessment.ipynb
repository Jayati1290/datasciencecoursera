{
 "cells": [
  {
   "cell_type": "markdown",
   "metadata": {},
   "source": [
    "Assessment "
   ]
  },
  {
   "cell_type": "code",
   "execution_count": 1,
   "metadata": {},
   "outputs": [],
   "source": [
    "import pandas as pd"
   ]
  },
  {
   "cell_type": "code",
   "execution_count": 2,
   "metadata": {},
   "outputs": [
    {
     "name": "stdout",
     "output_type": "stream",
     "text": [
      "      First Name;Last Name;Email;Application Date;Country;YOE;Seniority;Technology;Code Challenge Score;Technical Interview Score\n",
      "0      Bernadette;Langworth;leonard91@yahoo.com;2021-...                                                                         \n",
      "1      Camryn;Reynolds;zelda56@hotmail.com;2021-09-09...                                                                         \n",
      "2      Larue;Spinka;okey_schultz41@gmail.com;2020-04-...                                                                         \n",
      "3      Arch;Spinka;elvera_kulas@yahoo.com;2020-10-01;...                                                                         \n",
      "4      Larue;Altenwerth;minnie.gislason@gmail.com;202...                                                                         \n",
      "...                                                  ...                                                                         \n",
      "49995  Bethany;Shields;rocky_mitchell@hotmail.com;202...                                                                         \n",
      "49996  Era;Swaniawski;dolores.roob@hotmail.com;2020-0...                                                                         \n",
      "49997  Martin;Lakin;savanah.stracke@gmail.com;2018-12...                                                                         \n",
      "49998  Aliya;Abernathy;vivienne.fritsch@yahoo.com;202...                                                                         \n",
      "49999  Coleman;Wisozk;abigayle.crooks@yahoo.com;2022-...                                                                         \n",
      "\n",
      "[50000 rows x 1 columns]\n"
     ]
    }
   ],
   "source": [
    "df = pd.read_csv(r'candidates.csv')\n",
    "print(df)"
   ]
  },
  {
   "cell_type": "code",
   "execution_count": null,
   "metadata": {},
   "outputs": [],
   "source": []
  }
 ],
 "metadata": {
  "kernelspec": {
   "display_name": "Python 3",
   "language": "python",
   "name": "python3"
  },
  "language_info": {
   "codemirror_mode": {
    "name": "ipython",
    "version": 3
   },
   "file_extension": ".py",
   "mimetype": "text/x-python",
   "name": "python",
   "nbconvert_exporter": "python",
   "pygments_lexer": "ipython3",
   "version": "3.7.4"
  }
 },
 "nbformat": 4,
 "nbformat_minor": 2
}
